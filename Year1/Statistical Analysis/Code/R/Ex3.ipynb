{
 "cells": [
  {
   "cell_type": "markdown",
   "id": "2cb07cf0-eb92-46db-99bd-cf242cae15be",
   "metadata": {},
   "source": [
    "# Statistical Analysis Exercise 3"
   ]
  },
  {
   "cell_type": "markdown",
   "id": "56fb8d63",
   "metadata": {},
   "source": [
    "## Question 1(a)"
   ]
  },
  {
   "cell_type": "code",
   "execution_count": 24,
   "id": "c3674bf9-11f4-498a-b9cf-dfd3ae1639b0",
   "metadata": {},
   "outputs": [
    {
     "data": {
      "text/html": [
       "<table class=\"dataframe\">\n",
       "<caption>A data.frame: 6 × 5</caption>\n",
       "<thead>\n",
       "\t<tr><th></th><th scope=col>spirit</th><th scope=col>gravity</th><th scope=col>pressure</th><th scope=col>distil</th><th scope=col>endpoint</th></tr>\n",
       "\t<tr><th></th><th scope=col>&lt;chr&gt;</th><th scope=col>&lt;chr&gt;</th><th scope=col>&lt;chr&gt;</th><th scope=col>&lt;int&gt;</th><th scope=col>&lt;int&gt;</th></tr>\n",
       "</thead>\n",
       "<tbody>\n",
       "\t<tr><th scope=row>1</th><td>6.9 </td><td>38.4</td><td>6.1</td><td>220</td><td>235</td></tr>\n",
       "\t<tr><th scope=row>2</th><td>14.4</td><td>40.3</td><td>4.8</td><td>231</td><td>307</td></tr>\n",
       "\t<tr><th scope=row>3</th><td>7.4 </td><td>40  </td><td>6.1</td><td>217</td><td>212</td></tr>\n",
       "\t<tr><th scope=row>4</th><td>8.5 </td><td>31.8</td><td>0.2</td><td>316</td><td>365</td></tr>\n",
       "\t<tr><th scope=row>5</th><td>8   </td><td>40.8</td><td>3.5</td><td>210</td><td>218</td></tr>\n",
       "\t<tr><th scope=row>6</th><td>2.8 </td><td>41.3</td><td>1.8</td><td>267</td><td>235</td></tr>\n",
       "</tbody>\n",
       "</table>\n"
      ],
      "text/latex": [
       "A data.frame: 6 × 5\n",
       "\\begin{tabular}{r|lllll}\n",
       "  & spirit & gravity & pressure & distil & endpoint\\\\\n",
       "  & <chr> & <chr> & <chr> & <int> & <int>\\\\\n",
       "\\hline\n",
       "\t1 & 6.9  & 38.4 & 6.1 & 220 & 235\\\\\n",
       "\t2 & 14.4 & 40.3 & 4.8 & 231 & 307\\\\\n",
       "\t3 & 7.4  & 40   & 6.1 & 217 & 212\\\\\n",
       "\t4 & 8.5  & 31.8 & 0.2 & 316 & 365\\\\\n",
       "\t5 & 8    & 40.8 & 3.5 & 210 & 218\\\\\n",
       "\t6 & 2.8  & 41.3 & 1.8 & 267 & 235\\\\\n",
       "\\end{tabular}\n"
      ],
      "text/markdown": [
       "\n",
       "A data.frame: 6 × 5\n",
       "\n",
       "| <!--/--> | spirit &lt;chr&gt; | gravity &lt;chr&gt; | pressure &lt;chr&gt; | distil &lt;int&gt; | endpoint &lt;int&gt; |\n",
       "|---|---|---|---|---|---|\n",
       "| 1 | 6.9  | 38.4 | 6.1 | 220 | 235 |\n",
       "| 2 | 14.4 | 40.3 | 4.8 | 231 | 307 |\n",
       "| 3 | 7.4  | 40   | 6.1 | 217 | 212 |\n",
       "| 4 | 8.5  | 31.8 | 0.2 | 316 | 365 |\n",
       "| 5 | 8    | 40.8 | 3.5 | 210 | 218 |\n",
       "| 6 | 2.8  | 41.3 | 1.8 | 267 | 235 |\n",
       "\n"
      ],
      "text/plain": [
       "  spirit gravity pressure distil endpoint\n",
       "1 6.9    38.4    6.1      220    235     \n",
       "2 14.4   40.3    4.8      231    307     \n",
       "3 7.4    40      6.1      217    212     \n",
       "4 8.5    31.8    0.2      316    365     \n",
       "5 8      40.8    3.5      210    218     \n",
       "6 2.8    41.3    1.8      267    235     "
      ]
     },
     "metadata": {},
     "output_type": "display_data"
    }
   ],
   "source": [
    "# this is the path for the data\n",
    "path <- \"C:/Users/James/Documents/GitHub/birckbeck_applied_statistics/Year1/Statistical Analysis/Data/oil.txt\"\n",
    "\n",
    "# load in the file as a dataframe here\n",
    "data <- read.csv2(path, sep = \"\\t\", header = FALSE)\n",
    "\n",
    "# change the column names\n",
    "colnames(data) <- c(\"spirit\", \"gravity\", \"pressure\", \"distil\", \"endpoint\")\n",
    "\n",
    "head(data)"
   ]
  },
  {
   "cell_type": "code",
   "execution_count": 25,
   "id": "6b0d5769-435e-4fa7-9a0a-ec6fc45e3269",
   "metadata": {},
   "outputs": [],
   "source": [
    "for (col in colnames(data)){\n",
    "    data[, col] <- as.numeric(data[, col])\n",
    "}"
   ]
  },
  {
   "cell_type": "code",
   "execution_count": 26,
   "id": "cf604bde-e310-477f-ba99-0f743dfa086b",
   "metadata": {},
   "outputs": [
    {
     "data": {
      "image/png": "[encoded data removed]",
      "text/plain": [
       "plot without title"
      ]
     },
     "metadata": {
      "image/png": {
       "height": 420,
       "width": 420
      }
     },
     "output_type": "display_data"
    }
   ],
   "source": [
    "pairs(data)"
   ]
  },
  {
   "cell_type": "code",
   "execution_count": 27,
   "id": "bc8a14da-598d-47e7-8268-8af830923ab3",
   "metadata": {},
   "outputs": [
    {
     "data": {
      "text/html": [
       "<table class=\"dataframe\">\n",
       "<caption>A matrix: 5 × 5 of type dbl</caption>\n",
       "<thead>\n",
       "\t<tr><th></th><th scope=col>spirit</th><th scope=col>gravity</th><th scope=col>pressure</th><th scope=col>distil</th><th scope=col>endpoint</th></tr>\n",
       "</thead>\n",
       "<tbody>\n",
       "\t<tr><th scope=row>spirit</th><td> 1.0000000</td><td> 0.2463260</td><td> 0.3840706</td><td>-0.3150243</td><td> 0.7115262</td></tr>\n",
       "\t<tr><th scope=row>gravity</th><td> 0.2463260</td><td> 1.0000000</td><td> 0.6205867</td><td>-0.7001539</td><td>-0.3216782</td></tr>\n",
       "\t<tr><th scope=row>pressure</th><td> 0.3840706</td><td> 0.6205867</td><td> 1.0000000</td><td>-0.9062248</td><td>-0.2979843</td></tr>\n",
       "\t<tr><th scope=row>distil</th><td>-0.3150243</td><td>-0.7001539</td><td>-0.9062248</td><td> 1.0000000</td><td> 0.4122466</td></tr>\n",
       "\t<tr><th scope=row>endpoint</th><td> 0.7115262</td><td>-0.3216782</td><td>-0.2979843</td><td> 0.4122466</td><td> 1.0000000</td></tr>\n",
       "</tbody>\n",
       "</table>\n"
      ],
      "text/latex": [
       "A matrix: 5 × 5 of type dbl\n",
       "\\begin{tabular}{r|lllll}\n",
       "  & spirit & gravity & pressure & distil & endpoint\\\\\n",
       "\\hline\n",
       "\tspirit &  1.0000000 &  0.2463260 &  0.3840706 & -0.3150243 &  0.7115262\\\\\n",
       "\tgravity &  0.2463260 &  1.0000000 &  0.6205867 & -0.7001539 & -0.3216782\\\\\n",
       "\tpressure &  0.3840706 &  0.6205867 &  1.0000000 & -0.9062248 & -0.2979843\\\\\n",
       "\tdistil & -0.3150243 & -0.7001539 & -0.9062248 &  1.0000000 &  0.4122466\\\\\n",
       "\tendpoint &  0.7115262 & -0.3216782 & -0.2979843 &  0.4122466 &  1.0000000\\\\\n",
       "\\end{tabular}\n"
      ],
      "text/markdown": [
       "\n",
       "A matrix: 5 × 5 of type dbl\n",
       "\n",
       "| <!--/--> | spirit | gravity | pressure | distil | endpoint |\n",
       "|---|---|---|---|---|---|\n",
       "| spirit |  1.0000000 |  0.2463260 |  0.3840706 | -0.3150243 |  0.7115262 |\n",
       "| gravity |  0.2463260 |  1.0000000 |  0.6205867 | -0.7001539 | -0.3216782 |\n",
       "| pressure |  0.3840706 |  0.6205867 |  1.0000000 | -0.9062248 | -0.2979843 |\n",
       "| distil | -0.3150243 | -0.7001539 | -0.9062248 |  1.0000000 |  0.4122466 |\n",
       "| endpoint |  0.7115262 | -0.3216782 | -0.2979843 |  0.4122466 |  1.0000000 |\n",
       "\n"
      ],
      "text/plain": [
       "         spirit     gravity    pressure   distil     endpoint  \n",
       "spirit    1.0000000  0.2463260  0.3840706 -0.3150243  0.7115262\n",
       "gravity   0.2463260  1.0000000  0.6205867 -0.7001539 -0.3216782\n",
       "pressure  0.3840706  0.6205867  1.0000000 -0.9062248 -0.2979843\n",
       "distil   -0.3150243 -0.7001539 -0.9062248  1.0000000  0.4122466\n",
       "endpoint  0.7115262 -0.3216782 -0.2979843  0.4122466  1.0000000"
      ]
     },
     "metadata": {},
     "output_type": "display_data"
    }
   ],
   "source": [
    "cor(data)"
   ]
  },
  {
   "cell_type": "markdown",
   "id": "3eb3e179",
   "metadata": {},
   "source": [
    "Lets get some better plots of the explanatory variables and the dependent variable"
   ]
  },
  {
   "cell_type": "code",
   "execution_count": 28,
   "id": "5fbd1ebd",
   "metadata": {},
   "outputs": [
    {
     "data": {
      "image/png": "[encoded data removed]",
      "text/plain": [
       "plot without title"
      ]
     },
     "metadata": {
      "image/png": {
       "height": 420,
       "width": 420
      }
     },
     "output_type": "display_data"
    },
    {
     "data": {
      "image/png": "[encoded data removed]",
      "text/plain": [
       "plot without title"
      ]
     },
     "metadata": {
      "image/png": {
       "height": 420,
       "width": 420
      }
     },
     "output_type": "display_data"
    },
    {
     "data": {
      "image/png": "[encoded data removed]",
      "text/plain": [
       "plot without title"
      ]
     },
     "metadata": {
      "image/png": {
       "height": 420,
       "width": 420
      }
     },
     "output_type": "display_data"
    },
    {
     "data": {
      "image/png": "[encoded data removed]",
      "text/plain": [
       "plot without title"
      ]
     },
     "metadata": {
      "image/png": {
       "height": 420,
       "width": 420
      }
     },
     "output_type": "display_data"
    }
   ],
   "source": [
    "for (col in colnames(data)[2:5]){\n",
    "    plot(data[, c(col)], data[, c(\"spirit\")], xlab=col, ylab=\"spirit\")\n",
    "}"
   ]
  },
  {
   "cell_type": "markdown",
   "id": "c35e64f0",
   "metadata": {},
   "source": [
    "Based on the scatter plots above, it looks like endpoint is the explanatory variable that has the strongest linear relationship with spirit. This is supported by the fact that the correlation between spirit and endpoint has the largest magnitude of all the correlations with spirit. "
   ]
  },
  {
   "cell_type": "code",
   "execution_count": 29,
   "id": "361d8069",
   "metadata": {},
   "outputs": [],
   "source": [
    "model1 <- lm(\"spirit ~ endpoint + distil\", data = data)"
   ]
  },
  {
   "cell_type": "code",
   "execution_count": 30,
   "id": "c96e1a62",
   "metadata": {},
   "outputs": [
    {
     "data": {
      "text/plain": [
       "\n",
       "Call:\n",
       "lm(formula = \"spirit ~ endpoint + distil\", data = data)\n",
       "\n",
       "Residuals:\n",
       "    Min      1Q  Median      3Q     Max \n",
       "-3.9593 -1.9063 -0.3711  1.6242  4.3802 \n",
       "\n",
       "Coefficients:\n",
       "             Estimate Std. Error t value Pr(>|t|)    \n",
       "(Intercept) 18.467633   3.009009   6.137 1.09e-06 ***\n",
       "endpoint     0.155813   0.006855  22.731  < 2e-16 ***\n",
       "distil      -0.209329   0.012737 -16.435 3.11e-16 ***\n",
       "---\n",
       "Signif. codes:  0 '***' 0.001 '**' 0.01 '*' 0.05 '.' 0.1 ' ' 1\n",
       "\n",
       "Residual standard error: 2.426 on 29 degrees of freedom\n",
       "Multiple R-squared:  0.9521,\tAdjusted R-squared:  0.9488 \n",
       "F-statistic: 288.4 on 2 and 29 DF,  p-value: < 2.2e-16\n"
      ]
     },
     "metadata": {},
     "output_type": "display_data"
    }
   ],
   "source": [
    "summary(model1)"
   ]
  },
  {
   "cell_type": "markdown",
   "id": "bd4f2e34",
   "metadata": {},
   "source": [
    "The model proposed was $spirit_i = \\alpha + \\beta_1 endpoint_i + \\beta_2 distil_i + \\epsilon_i$, and the model summary is given above. In the proposed model, all the estimated values are highly significant, and the $\\bar{R}^2$ is also very high, indicating a good fit, and strong evidence of a linear relationship between spirit, and the explanatory variables."
   ]
  },
  {
   "cell_type": "markdown",
   "id": "a47cc709",
   "metadata": {},
   "source": [
    "## 1(b)"
   ]
  },
  {
   "cell_type": "code",
   "execution_count": 31,
   "id": "28d1f59a",
   "metadata": {},
   "outputs": [],
   "source": [
    "prediction_data <- data.frame(\"endpoint\"=c(400), \"distil\"=c(200))"
   ]
  },
  {
   "cell_type": "code",
   "execution_count": 32,
   "id": "634453e5",
   "metadata": {},
   "outputs": [],
   "source": [
    "confidence_interval <- predict(model1, prediction_data, interval=c(\"confidence\"))\n",
    "prediction_interval <- predict(model1, prediction_data, interval=c(\"prediction\"))"
   ]
  },
  {
   "cell_type": "code",
   "execution_count": 33,
   "id": "9fa40402",
   "metadata": {},
   "outputs": [
    {
     "data": {
      "text/html": [
       "<table class=\"dataframe\">\n",
       "<caption>A matrix: 1 × 3 of type dbl</caption>\n",
       "<thead>\n",
       "\t<tr><th></th><th scope=col>fit</th><th scope=col>lwr</th><th scope=col>upr</th></tr>\n",
       "</thead>\n",
       "<tbody>\n",
       "\t<tr><th scope=row>1</th><td>38.92724</td><td>37.00562</td><td>40.84885</td></tr>\n",
       "</tbody>\n",
       "</table>\n"
      ],
      "text/latex": [
       "A matrix: 1 × 3 of type dbl\n",
       "\\begin{tabular}{r|lll}\n",
       "  & fit & lwr & upr\\\\\n",
       "\\hline\n",
       "\t1 & 38.92724 & 37.00562 & 40.84885\\\\\n",
       "\\end{tabular}\n"
      ],
      "text/markdown": [
       "\n",
       "A matrix: 1 × 3 of type dbl\n",
       "\n",
       "| <!--/--> | fit | lwr | upr |\n",
       "|---|---|---|---|\n",
       "| 1 | 38.92724 | 37.00562 | 40.84885 |\n",
       "\n"
      ],
      "text/plain": [
       "  fit      lwr      upr     \n",
       "1 38.92724 37.00562 40.84885"
      ]
     },
     "metadata": {},
     "output_type": "display_data"
    }
   ],
   "source": [
    "confidence_interval"
   ]
  },
  {
   "cell_type": "code",
   "execution_count": 34,
   "id": "0c413933",
   "metadata": {},
   "outputs": [
    {
     "data": {
      "text/html": [
       "<table class=\"dataframe\">\n",
       "<caption>A matrix: 1 × 3 of type dbl</caption>\n",
       "<thead>\n",
       "\t<tr><th></th><th scope=col>fit</th><th scope=col>lwr</th><th scope=col>upr</th></tr>\n",
       "</thead>\n",
       "<tbody>\n",
       "\t<tr><th scope=row>1</th><td>38.92724</td><td>33.60731</td><td>44.24717</td></tr>\n",
       "</tbody>\n",
       "</table>\n"
      ],
      "text/latex": [
       "A matrix: 1 × 3 of type dbl\n",
       "\\begin{tabular}{r|lll}\n",
       "  & fit & lwr & upr\\\\\n",
       "\\hline\n",
       "\t1 & 38.92724 & 33.60731 & 44.24717\\\\\n",
       "\\end{tabular}\n"
      ],
      "text/markdown": [
       "\n",
       "A matrix: 1 × 3 of type dbl\n",
       "\n",
       "| <!--/--> | fit | lwr | upr |\n",
       "|---|---|---|---|\n",
       "| 1 | 38.92724 | 33.60731 | 44.24717 |\n",
       "\n"
      ],
      "text/plain": [
       "  fit      lwr      upr     \n",
       "1 38.92724 33.60731 44.24717"
      ]
     },
     "metadata": {},
     "output_type": "display_data"
    }
   ],
   "source": [
    "prediction_interval"
   ]
  },
  {
   "cell_type": "markdown",
   "id": "108acd9b",
   "metadata": {},
   "source": [
    "## Question 2"
   ]
  },
  {
   "cell_type": "code",
   "execution_count": 36,
   "id": "34cdf131",
   "metadata": {},
   "outputs": [
    {
     "data": {
      "text/html": [
       "<table class=\"dataframe\">\n",
       "<caption>A data.frame: 6 × 2</caption>\n",
       "<thead>\n",
       "\t<tr><th></th><th scope=col>price</th><th scope=col>consump</th></tr>\n",
       "\t<tr><th></th><th scope=col>&lt;chr&gt;</th><th scope=col>&lt;chr&gt;</th></tr>\n",
       "</thead>\n",
       "<tbody>\n",
       "\t<tr><th scope=row>1</th><td>9.485 </td><td>39.375</td></tr>\n",
       "\t<tr><th scope=row>2</th><td>10.163</td><td>37.607</td></tr>\n",
       "\t<tr><th scope=row>3</th><td>11.426</td><td>35.254</td></tr>\n",
       "\t<tr><th scope=row>4</th><td>11.566</td><td>35.714</td></tr>\n",
       "\t<tr><th scope=row>5</th><td>10.713</td><td>37.513</td></tr>\n",
       "\t<tr><th scope=row>6</th><td>9.798 </td><td>42.120</td></tr>\n",
       "</tbody>\n",
       "</table>\n"
      ],
      "text/latex": [
       "A data.frame: 6 × 2\n",
       "\\begin{tabular}{r|ll}\n",
       "  & price & consump\\\\\n",
       "  & <chr> & <chr>\\\\\n",
       "\\hline\n",
       "\t1 & 9.485  & 39.375\\\\\n",
       "\t2 & 10.163 & 37.607\\\\\n",
       "\t3 & 11.426 & 35.254\\\\\n",
       "\t4 & 11.566 & 35.714\\\\\n",
       "\t5 & 10.713 & 37.513\\\\\n",
       "\t6 & 9.798  & 42.120\\\\\n",
       "\\end{tabular}\n"
      ],
      "text/markdown": [
       "\n",
       "A data.frame: 6 × 2\n",
       "\n",
       "| <!--/--> | price &lt;chr&gt; | consump &lt;chr&gt; |\n",
       "|---|---|---|\n",
       "| 1 | 9.485  | 39.375 |\n",
       "| 2 | 10.163 | 37.607 |\n",
       "| 3 | 11.426 | 35.254 |\n",
       "| 4 | 11.566 | 35.714 |\n",
       "| 5 | 10.713 | 37.513 |\n",
       "| 6 | 9.798  | 42.120 |\n",
       "\n"
      ],
      "text/plain": [
       "  price  consump\n",
       "1 9.485  39.375 \n",
       "2 10.163 37.607 \n",
       "3 11.426 35.254 \n",
       "4 11.566 35.714 \n",
       "5 10.713 37.513 \n",
       "6 9.798  42.120 "
      ]
     },
     "metadata": {},
     "output_type": "display_data"
    }
   ],
   "source": [
    "# this is the path for the data\n",
    "path <- \"C:/Users/James/Documents/GitHub/birckbeck_applied_statistics/Year1/Statistical Analysis/Data/sugar.txt\"\n",
    "\n",
    "# load in the file as a dataframe here\n",
    "data <- read.csv2(path, sep = \"\\t\", header = TRUE)\n",
    "\n",
    "head(data)"
   ]
  },
  {
   "cell_type": "code",
   "execution_count": 37,
   "id": "da8f3356",
   "metadata": {},
   "outputs": [],
   "source": [
    "# this changes the data types of the columns to numerics. When we load them into the script, they are characters for some reason\n",
    "for (col in colnames(data)){\n",
    "    data[, col] <- as.numeric(data[, col])\n",
    "}"
   ]
  },
  {
   "cell_type": "code",
   "execution_count": 38,
   "id": "66b84e98",
   "metadata": {},
   "outputs": [],
   "source": [
    "data[\"lconsump\"] = log(data[\"consump\"])"
   ]
  },
  {
   "cell_type": "code",
   "execution_count": 40,
   "id": "1c70659e",
   "metadata": {},
   "outputs": [
    {
     "data": {
      "text/plain": [
       "\n",
       "Call:\n",
       "lm(formula = \"lconsump ~ price\", data = data)\n",
       "\n",
       "Residuals:\n",
       "      Min        1Q    Median        3Q       Max \n",
       "-0.206114 -0.068467  0.004681  0.059175  0.235160 \n",
       "\n",
       "Coefficients:\n",
       "             Estimate Std. Error t value Pr(>|t|)    \n",
       "(Intercept)  5.081099   0.038202  133.00   <2e-16 ***\n",
       "price       -0.138536   0.005731  -24.17   <2e-16 ***\n",
       "---\n",
       "Signif. codes:  0 '***' 0.001 '**' 0.01 '*' 0.05 '.' 0.1 ' ' 1\n",
       "\n",
       "Residual standard error: 0.0877 on 53 degrees of freedom\n",
       "Multiple R-squared:  0.9168,\tAdjusted R-squared:  0.9153 \n",
       "F-statistic: 584.3 on 1 and 53 DF,  p-value: < 2.2e-16\n"
      ]
     },
     "metadata": {},
     "output_type": "display_data"
    }
   ],
   "source": [
    "model2 <- lm(\"lconsump ~ price\", data = data)\n",
    "\n",
    "summary(model2)"
   ]
  },
  {
   "cell_type": "code",
   "execution_count": null,
   "id": "0731c646",
   "metadata": {},
   "outputs": [],
   "source": []
  }
 ],
 "metadata": {
  "kernelspec": {
   "display_name": "R",
   "language": "R",
   "name": "ir"
  },
  "language_info": {
   "codemirror_mode": "r",
   "file_extension": ".r",
   "mimetype": "text/x-r-source",
   "name": "R",
   "pygments_lexer": "r",
   "version": "4.2.1"
  }
 },
 "nbformat": 4,
 "nbformat_minor": 5
}
